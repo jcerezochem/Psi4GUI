{
 "cells": [
  {
   "cell_type": "markdown",
   "metadata": {
    "extensions": {
     "jupyter_dashboards": {
      "version": 1,
      "views": {
       "default_view": {
        "col": 0,
        "height": 3,
        "row": 0,
        "width": 12
       }
      }
     }
    }
   },
   "source": [
    "# Psi4GUI\n",
    "\n",
    "A (Jupyter/voila) interface to Psi4 electronic structure program, with MO rendering using <s>NGLview</s> pymol3D"
   ]
  },
  {
   "cell_type": "code",
   "execution_count": 13,
   "metadata": {
    "extensions": {
     "jupyter_dashboards": {
      "version": 1,
      "views": {
       "default_view": {
        "hidden": true
       }
      }
     }
    },
    "hide_input": true
   },
   "outputs": [],
   "source": [
    "import psi4\n",
    "psi4.core.set_output_file('output.log', True)\n",
    "import numpy as np\n",
    "import matplotlib.pyplot as plt\n",
    "import py3Dmol\n",
    "import nglview as nv\n",
    "import glob\n",
    "import os\n",
    "import ipywidgets as widgets\n",
    "from ipywidgets import interactive\n",
    "from IPython.display import display\n",
    "\n",
    "elements =          [None,\n",
    "          'H' ,                                                                                'He',\n",
    "          'Li','Be',                                                  'B' ,'C' ,'N' ,'O' ,'F' ,'Ne',\n",
    "          'Na','Mg',                                                  'Al','Si','P' ,'S' ,'Cl','Ar',\n",
    "          'K' ,'Ca','Sc','Ti','V' ,'Cr','Mn','Fe','Co','Ni','Cu','Zn','Ga','Ge','As','Se','Br','Kr',\n",
    "          'Rb','Sr','Y' ,'Zr','Nb','Mo','Tc','Ru','Rh','Pd','Ag','Cd','In','Sn','Sb','Te','I' ,'Xe',\n",
    "          'Cs','Ba','La', #Lantanides:  \n",
    "#                  ---------------------------------------------------\n",
    "                    'Ce','Pr','Nd','Pm','Sm','Eu','Gd',#\n",
    "                    'Tb','Dy','Ho','Er','Tm','Yb','Lu',#\n",
    "#                  ---------------------------------------------------\n",
    "                         'Hf','Ta','W' ,'Re','Os','Ir','Pt','Au','Hg','Tl','Pb','Bi','Po','At','Rn',\n",
    "         'Fr','Ra','Ac', #Actinides:\n",
    "#                  ---------------------------------------------------\n",
    "                   'Th','Pa','U' ,'Np','Pu','Am','Cm',#\n",
    "                   'Bk','Cf','Es','Fm','Md','No','Lr'#\n",
    "#                  ---------------------------------------------------\n",
    "         ]\n",
    "\n",
    "def cubetoxyz(cubefile):\n",
    "    with open(cubefile) as f:\n",
    "        atoms=[]\n",
    "        line = f.readline()\n",
    "        data = line.split()\n",
    "        while len(data) != 6:\n",
    "            line = f.readline()\n",
    "            data = line.split()\n",
    "            if len(data)==5:\n",
    "                atoms.append(data)\n",
    "    newxyz = str(len(atoms))+'\\n'\n",
    "    newxyz +='New xyz\\n'\n",
    "    for atom in atoms:\n",
    "        xyz = [ '{:8.3f}'.format(float(x)*0.529177) for x in atom[2:]]\n",
    "        newxyz += elements[int(atom[0])]+' '+' '.join(xyz)+'\\n'\n",
    "        \n",
    "    return newxyz\n",
    "\n",
    "def cubetopdb(cubefile):\n",
    "    with open(cubefile) as f:\n",
    "        atoms=[]\n",
    "        line = f.readline()\n",
    "        data = line.split()\n",
    "        while len(data) != 6:\n",
    "            line = f.readline()\n",
    "            data = line.split()\n",
    "            if len(data)==5:\n",
    "                atoms.append(data)\n",
    "    newpdb = 'TITLE pdb geometry'\n",
    "    for i,atom in enumerate(atoms):\n",
    "        atname=elements[int(atom[0])]\n",
    "        xyz = [ float(x)*0.529177 for x in atom[2:]]\n",
    "        line = \"{:<6}{:>5d} {:<4}{:1}{:>3} {:1}{:>4d}{:1}   {:>8.3f}{:>8.3f}{:>8.3f}{:22}{:>2}\".\\\n",
    "        format('HETATM',i+1,atname,' ','RES',' ',1,' ',*xyz,' ',atname)\n",
    "        newpdb += \"\\n\"+line\n",
    "    return newpdb\n",
    "\n",
    "def print_mo(mo,iso=0.02):\n",
    "    # Search cubefile\n",
    "    cubefiles=glob.glob('Psi_a_'+str(mo)+'_*')\n",
    "    if len(cubefiles) > 1:\n",
    "        print('Too many cubefiles for MO '+str(mo))\n",
    "        return None\n",
    "    if len(cubefiles) == 0:\n",
    "        print('No cuefile for MO '+str(mo))\n",
    "        return None\n",
    "    cubefile=cubefiles[0]\n",
    "    MO = open(cubefile).read()\n",
    "    # xyz geom\n",
    "    geomxyz = cubetoxyz(cubefile)\n",
    "    view = py3Dmol.view()\n",
    "    view.addModel(geomxyz,'xyz')\n",
    "    view.setStyle({'sphere':{'scale':0.25}})\n",
    "    view.addStyle({'stick':{'radius':0.1}})\n",
    "    view.addVolumetricData(MO, \"cube\", {'isoval':  iso, 'color': \"blue\", 'opacity': 0.75})\n",
    "    view.addVolumetricData(MO, \"cube\", {'isoval': -iso, 'color': \"red\", 'opacity': 0.75})\n",
    "    view.rotate(0, {'x':1,'y':1,'z':1})\n",
    "    view.zoomTo()\n",
    "    \n",
    "    return view, cubefile\n",
    "\n",
    "\n",
    "def print_mo_geom(mo,geom,iso=0.02):\n",
    "    # Search cubefile\n",
    "    folder='GEOM_{:03g}'.format(geom)+'/'\n",
    "    cubefiles=glob.glob(folder+'Psi_a_'+str(mo)+'_*')\n",
    "    if len(cubefiles) > 1:\n",
    "        print('Too many cubefiles for MO '+str(mo))\n",
    "        return None\n",
    "    if len(cubefiles) == 0:\n",
    "        print('No cuefile for MO '+str(mo)+' at geom '+str(geom))\n",
    "        return None\n",
    "    cubefile=cubefiles[0]\n",
    "    MO = open(cubefile).read()\n",
    "    # xyz geom\n",
    "    geomxyz = cubetoxyz(cubefile)\n",
    "    view = py3Dmol.view()\n",
    "    view.addModel(geomxyz,'xyz')\n",
    "    view.setStyle({'sphere':{'scale':0.25}})\n",
    "    view.addStyle({'stick':{'radius':0.1}})\n",
    "    view.addVolumetricData(MO, \"cube\", {'isoval':  iso, 'color': \"blue\", 'opacity': 0.75})\n",
    "    view.addVolumetricData(MO, \"cube\", {'isoval': -iso, 'color': \"red\", 'opacity': 0.75})\n",
    "    view.rotate(0, {'x':1,'y':1,'z':1})\n",
    "    view.zoomTo()\n",
    "    \n",
    "    return view, cubefile\n",
    "\n",
    "def print_mo_geom_ngl(mo,geom,iso=0.02):\n",
    "    # Search cubefile\n",
    "    folder='GEOM_{:03g}'.format(geom)+'/'\n",
    "    cubefiles=glob.glob(folder+'Psi_a_'+str(mo)+'_*')\n",
    "    if len(cubefiles) > 1:\n",
    "        print('Too many cubefiles for MO '+str(mo))\n",
    "        return None\n",
    "    if len(cubefiles) == 0:\n",
    "        print('No cuefile for MO '+str(mo)+' at geom '+str(geom))\n",
    "        return None\n",
    "    cubefile=cubefiles[0]\n",
    "\n",
    "    geofile='geom_tmp.pdb'\n",
    "    with open(geofile,'w') as f:\n",
    "        print(cubetopdb(cubefile),file=f)\n",
    "    view = nv.show_file(geofile)\n",
    "    #view = nv.NGLWidget()\n",
    "    view.add_component(cubefile)\n",
    "    view.component_1.clear()\n",
    "    view.component_1.add_surface(opacity=0.5, color='blue', isolevel=1., probe_radius=10.)\n",
    "    view.component_1.add_surface(opacity=0.5, color='red', isolevel=-1., depthWrite=False)\n",
    "    view.parameters = {\n",
    "        \"clipNear\": 0, \"clipFar\": 100, \"clipDist\": 1\n",
    "    }\n",
    "    \n",
    "    return view, cubefile\n",
    "\n",
    "\n",
    "def xyzfile2geom(fname,charge=None,mult=None,symm=None):\n",
    "    '''Extact xyz geometry from xyz file (discarding 2 first lines)\n",
    "    '''\n",
    "    with open(fname) as fxyz:\n",
    "        geomxyz = fxyz.read()\n",
    "    # We can provide the geom without 2 first lines of xyz file. \n",
    "    # This allows additional input (such as units -ang by default- or symmetry)\n",
    "    geo = geomxyz.split('\\n')\n",
    "    geo = '\\n'.join(geo[2:])\n",
    "    \n",
    "    if charge is not None and mult is not None:\n",
    "        geo = str(charge)+' '+str(mult)+'\\n'+geo\n",
    "        \n",
    "    if symm:\n",
    "        geo += '\\nsymmetry '+symm\n",
    "    \n",
    "    return geo\n",
    "\n",
    "def xyzstr2geom(geomxyz,charge=None,mult=None,symm=None):\n",
    "    '''Extact xyz geometry from xyz file (discarding 2 first lines)\n",
    "    '''\n",
    "    # We can provide the geom without 2 first lines of xyz file. \n",
    "    # This allows additional input (such as units -ang by default- or symmetry)\n",
    "    geo = geomxyz.split('\\n')\n",
    "    geo = '\\n'.join(geo[2:])\n",
    "    \n",
    "    if charge is not None and mult is not None:\n",
    "        geo = str(charge)+' '+str(mult)+'\\n'+geo\n",
    "        \n",
    "    if symm:\n",
    "        geo += '\\nsymmetry '+symm\n",
    "    \n",
    "    return geo\n"
   ]
  },
  {
   "cell_type": "markdown",
   "metadata": {
    "extensions": {
     "jupyter_dashboards": {
      "version": 1,
      "views": {
       "default_view": {
        "col": 0,
        "height": 2,
        "row": 3,
        "width": 12
       }
      }
     }
    }
   },
   "source": [
    "# Input geometry and options"
   ]
  },
  {
   "cell_type": "code",
   "execution_count": 78,
   "metadata": {
    "extensions": {
     "jupyter_dashboards": {
      "version": 1,
      "views": {
       "default_view": {
        "col": 0,
        "height": 8,
        "row": 5,
        "width": 6
       }
      }
     }
    }
   },
   "outputs": [
    {
     "data": {
      "application/vnd.jupyter.widget-view+json": {
       "model_id": "c654c2647dfd4333802f297cc871d33c",
       "version_major": 2,
       "version_minor": 0
      },
      "text/plain": [
       "FileChooser(path='/home/cerezo/Documentos/DOCENCIA/2020-21/QuiFiIII/UsingPsi4Jupyter', filename='', title='HTM…"
      ]
     },
     "metadata": {},
     "output_type": "display_data"
    },
    {
     "data": {
      "application/vnd.jupyter.widget-view+json": {
       "model_id": "ee90039a7fad44f59554de96ba8ef87a",
       "version_major": 2,
       "version_minor": 0
      },
      "text/plain": [
       "Output()"
      ]
     },
     "metadata": {},
     "output_type": "display_data"
    },
    {
     "data": {
      "application/vnd.jupyter.widget-view+json": {
       "model_id": "94965e873a0043f099f412201a03db1c",
       "version_major": 2,
       "version_minor": 0
      },
      "text/plain": [
       "FileUpload(value={}, description='Upload')"
      ]
     },
     "metadata": {},
     "output_type": "display_data"
    },
    {
     "data": {
      "application/vnd.jupyter.widget-view+json": {
       "model_id": "878a5dbfa589402aae779747015fc54e",
       "version_major": 2,
       "version_minor": 0
      },
      "text/plain": [
       "Button(description='Load geometry', style=ButtonStyle())"
      ]
     },
     "metadata": {},
     "output_type": "display_data"
    },
    {
     "data": {
      "application/vnd.jupyter.widget-view+json": {
       "model_id": "d70ad1f0378644d89378927813d51009",
       "version_major": 2,
       "version_minor": 0
      },
      "text/plain": [
       "Output()"
      ]
     },
     "metadata": {},
     "output_type": "display_data"
    }
   ],
   "source": [
    "import os\n",
    "from ipyfilechooser import FileChooser\n",
    "\n",
    "# Load local file\n",
    "path=os.getcwd()\n",
    "\n",
    "# Create and display a FileChooser widget\n",
    "fc = FileChooser(path)\n",
    "fc.title = '<b>Local File</b>'\n",
    "display(fc)\n",
    "\n",
    "from ipywidgets import FileUpload\n",
    "\n",
    "# Upload file\n",
    "upload = FileUpload()\n",
    "text = widgets.Output()\n",
    "with text:\n",
    "    print('Remote File')\n",
    "display(text,upload)\n",
    "\n",
    "def on_button_clicked(b):\n",
    "    global mol\n",
    "    output1.clear_output()\n",
    "    if upload.get_state()['_counter']>0:\n",
    "        with output1:\n",
    "            print('Using remote file: ',upload.metadata[0]['name'])\n",
    "        ftype = upload.metadata[0]['name'].split('.')[-1]\n",
    "        filedata = upload.data[0].decode()\n",
    "    elif fc.get_interact_value():\n",
    "        with output1:\n",
    "            print('Using local file: ',fc.selected_filename)\n",
    "        ftype = fc.selected_filename.split('.')[-1]\n",
    "        with open(fc.selected) as f:\n",
    "            filedata = f.read()\n",
    "    else:\n",
    "        with output1:\n",
    "            print('No file selected')\n",
    "        return None\n",
    "    if ftype != 'xyz':\n",
    "        raise BaseException('Unsupported file type: '+ftype)\n",
    "        \n",
    "    # Build geom string\n",
    "    geom = xyzstr2geom(filedata,charge=0,mult=1)\n",
    "    \n",
    "    # Show geom\n",
    "    with output1:\n",
    "        print('Coordinates of your molecule:\\n')\n",
    "        print(geom)\n",
    "    \n",
    "    # Build psi4 molecule object\n",
    "    mol = psi4.geometry(geom)\n",
    "\n",
    "\n",
    "# Load geom\n",
    "button = widgets.Button(description=\"Load geometry\")\n",
    "output1 = widgets.Output()\n",
    "\n",
    "display(button, output1)   \n",
    "\n",
    "button.on_click(on_button_clicked)"
   ]
  },
  {
   "cell_type": "raw",
   "metadata": {
    "extensions": {
     "jupyter_dashboards": {
      "version": 1,
      "views": {
       "default_view": {
        "col": 0,
        "height": 8,
        "row": 5,
        "width": 6
       }
      }
     }
    },
    "hide_input": true
   },
   "source": [
    "import os\n",
    "from ipyfilechooser import FileChooser\n",
    "\n",
    "path=os.getcwd()\n",
    "\n",
    "# Create and display a FileChooser widget\n",
    "fc = FileChooser(path)\n",
    "display(fc)\n",
    "\n",
    "\n",
    "def on_button_clicked(b):\n",
    "    global mol\n",
    "    # Print the selected path, filename, or both\n",
    "    #print('Folder where selected item is: ', fc.selected_path)\n",
    "    #print('File name of selected item: ', fc.selected_filename)\n",
    "    #print('Full path to selected item: ', fc.selected)\n",
    "    ftype = fc.selected_filename.split('.')[-1]\n",
    "    if ftype != 'xyz':\n",
    "        raise BaseException('Unsupported file type: '+ftype)\n",
    "        \n",
    "    # Build geom string\n",
    "    geom = xyzfile2geom(fc.selected,charge=0,mult=1)\n",
    "    \n",
    "    # Show geom\n",
    "    with output1:\n",
    "        print('Coordinates of your molecule:\\n')\n",
    "        print(geom)\n",
    "    \n",
    "    # Build psi4 molecule object\n",
    "    mol = psi4.geometry(geom)\n",
    "    \n",
    "button = widgets.Button(description=\"Load geometry\")\n",
    "output1 = widgets.Output()\n",
    "\n",
    "display(button, output1)   \n",
    "\n",
    "button.on_click(on_button_clicked)"
   ]
  },
  {
   "cell_type": "markdown",
   "metadata": {
    "extensions": {
     "jupyter_dashboards": {
      "version": 1,
      "views": {
       "default_view": {
        "col": 0,
        "height": 2,
        "row": 13,
        "width": 12
       }
      }
     }
    }
   },
   "source": [
    "# Psi4 calculation"
   ]
  },
  {
   "cell_type": "code",
   "execution_count": 46,
   "metadata": {
    "extensions": {
     "jupyter_dashboards": {
      "version": 1,
      "views": {
       "default_view": {
        "col": 0,
        "height": 2,
        "row": 15,
        "width": 4
       }
      }
     }
    }
   },
   "outputs": [
    {
     "data": {
      "application/vnd.jupyter.widget-view+json": {
       "model_id": "04fcc5ff99a146968aaa7e1048a06ca0",
       "version_major": 2,
       "version_minor": 0
      },
      "text/plain": [
       "Button(description='Single point energy', style=ButtonStyle())"
      ]
     },
     "metadata": {},
     "output_type": "display_data"
    }
   ],
   "source": [
    "button = widgets.Button(description=\"Single point energy\")\n",
    "output2 = widgets.Output()\n",
    "\n",
    "display(button)\n",
    "\n",
    "def on_button_clicked(b):\n",
    "    global E, wfn\n",
    "    output2.clear_output()\n",
    "    with output2:\n",
    "        print('Running energy calc...')\n",
    "    E, wfn = psi4.energy('b3lyp/6-31G(d)',return_wfn=True)\n",
    "    output2.clear_output()\n",
    "    with output2:\n",
    "        print('Energy (a.u.) = ',E)\n",
    "        print(\"Calculation finished\")    \n",
    "\n",
    "button.on_click(on_button_clicked)\n",
    "\n"
   ]
  },
  {
   "cell_type": "code",
   "execution_count": 45,
   "metadata": {
    "extensions": {
     "jupyter_dashboards": {
      "version": 1,
      "views": {
       "default_view": {
        "col": 4,
        "height": 2,
        "row": 15,
        "width": 4
       }
      }
     }
    }
   },
   "outputs": [
    {
     "data": {
      "application/vnd.jupyter.widget-view+json": {
       "model_id": "8f038126b9634be4ae0ab5eeb70d727b",
       "version_major": 2,
       "version_minor": 0
      },
      "text/plain": [
       "Button(description='Optimize', style=ButtonStyle())"
      ]
     },
     "metadata": {},
     "output_type": "display_data"
    }
   ],
   "source": [
    "button = widgets.Button(description=\"Optimize\")\n",
    "#output3 = widgets.Output()\n",
    "\n",
    "display(button)\n",
    "\n",
    "def on_button_clicked(b):\n",
    "    global E, wfn, mol\n",
    "    output2.clear_output()\n",
    "    with output2:\n",
    "        print('Running optimization...')\n",
    "    E, wfn = psi4.optimize('b3lyp/6-31G(d)',return_wfn=True)\n",
    "    # Compute bond distance\n",
    "    geom = mol.geometry().np * 0.529177\n",
    "    np.linalg.norm(geom[1]-geom[0])\n",
    "    output2.clear_output()\n",
    "    with output2:\n",
    "        print('Optimized geometry:')\n",
    "        print(mol.to_string('xyz'))\n",
    "        print('Optimized distance')\n",
    "        print('Energy (a.u.) = ',E)\n",
    "        print(\"Calculation finished\")    \n",
    "\n",
    "button.on_click(on_button_clicked)"
   ]
  },
  {
   "cell_type": "code",
   "execution_count": 42,
   "metadata": {
    "extensions": {
     "jupyter_dashboards": {
      "version": 1,
      "views": {
       "default_view": {
        "col": 1,
        "height": 8,
        "row": 17,
        "width": 7
       }
      }
     }
    }
   },
   "outputs": [
    {
     "data": {
      "application/vnd.jupyter.widget-view+json": {
       "model_id": "d1f918aabb9240929ea7d0ba4608daa2",
       "version_major": 2,
       "version_minor": 0
      },
      "text/plain": [
       "Output()"
      ]
     },
     "metadata": {},
     "output_type": "display_data"
    }
   ],
   "source": [
    "display(output2)"
   ]
  },
  {
   "cell_type": "markdown",
   "metadata": {
    "extensions": {
     "jupyter_dashboards": {
      "version": 1,
      "views": {
       "default_view": {
        "col": 0,
        "height": 2,
        "row": 25,
        "width": 12
       }
      }
     }
    }
   },
   "source": [
    "# Molecular orbitals"
   ]
  },
  {
   "cell_type": "code",
   "execution_count": 38,
   "metadata": {
    "extensions": {
     "jupyter_dashboards": {
      "version": 1,
      "views": {
       "default_view": {
        "col": 0,
        "height": 4,
        "row": 27,
        "width": 3
       }
      }
     }
    }
   },
   "outputs": [
    {
     "data": {
      "application/vnd.jupyter.widget-view+json": {
       "model_id": "91e4b76ced3e48d1b0dd9e4e500832bb",
       "version_major": 2,
       "version_minor": 0
      },
      "text/plain": [
       "Button(description='Compute MO', style=ButtonStyle())"
      ]
     },
     "metadata": {},
     "output_type": "display_data"
    },
    {
     "data": {
      "application/vnd.jupyter.widget-view+json": {
       "model_id": "c1859a9080c842849eadf47196d5ab77",
       "version_major": 2,
       "version_minor": 0
      },
      "text/plain": [
       "Output()"
      ]
     },
     "metadata": {},
     "output_type": "display_data"
    }
   ],
   "source": [
    "button = widgets.Button(description=\"Compute MO\")\n",
    "output4 = widgets.Output()\n",
    "\n",
    "display(button, output4)\n",
    "\n",
    "\n",
    "def on_button_clicked(b):\n",
    "    global wfn, mo_ener\n",
    "    # Compute cube files\n",
    "    %rm *cube\n",
    "    psi4.driver.p4util.cubeprop(wfn)\n",
    "    \n",
    "    # MO energies\n",
    "    # Get MO energies. Per irrep \n",
    "    mo_ener_symm = wfn.epsilon_a().nph\n",
    "    # Concatenate energies for all irrep in a single array\n",
    "    mo_ener=np.concatenate(mo_ener_symm)\n",
    "    # And sort by energy\n",
    "    mo_ener.sort()\n",
    "    # Show\n",
    "    #mo_ener\n",
    "    \n",
    "    with output4:\n",
    "        print(\"MO done\")    \n",
    "    \n",
    "\n",
    "\n",
    "button.on_click(on_button_clicked)\n"
   ]
  },
  {
   "cell_type": "code",
   "execution_count": 39,
   "metadata": {
    "extensions": {
     "jupyter_dashboards": {
      "version": 1,
      "views": {
       "default_view": {
        "col": 3,
        "height": 15,
        "row": 27,
        "width": 9
       }
      }
     }
    }
   },
   "outputs": [
    {
     "data": {
      "application/vnd.jupyter.widget-view+json": {
       "model_id": "66b7e91ad7a24c52af9f41443bc9d292",
       "version_major": 2,
       "version_minor": 0
      },
      "text/plain": [
       "interactive(children=(IntSlider(value=5, description='mo', max=10, min=1), Output(layout=Layout(height='500px'…"
      ]
     },
     "metadata": {},
     "output_type": "display_data"
    }
   ],
   "source": [
    "def display_mo(mo):\n",
    "    i=mo\n",
    "    try:\n",
    "        view, cubefile = print_mo(i,iso=0.05)\n",
    "        mo_name = cubefile.replace('.cube','')\n",
    "        mo_name = mo_name.split('/')[-1]\n",
    "        sym_label = mo_name.split('_')[-1]\n",
    "        print('MO: {:<4}   E={:8.3f}     SymmLabel: {:4}'.format(i,mo_ener[i-1],sym_label))\n",
    "        view.setPerceivedDistance(10)\n",
    "        view.rotate(90, {'x':1,'y':1,'z':1})\n",
    "        return view.show()\n",
    "    except:\n",
    "        return None\n",
    "\n",
    "#nmo = len(mo_ener)\n",
    "interactive_plot = interactive(display_mo, mo=(1,10,1))\n",
    "out = interactive_plot.children[-1]\n",
    "out.layout.height = '500px'\n",
    "interactive_plot"
   ]
  }
 ],
 "metadata": {
  "celltoolbar": "Edit Metadata",
  "extensions": {
   "jupyter_dashboards": {
    "activeView": "default_view",
    "version": 1,
    "views": {
     "default_view": {
      "cellMargin": 10,
      "defaultCellHeight": 40,
      "maxColumns": 12,
      "name": "active_view",
      "type": "grid"
     }
    }
   }
  },
  "kernelspec": {
   "display_name": "Python 3",
   "language": "python",
   "name": "python3"
  },
  "language_info": {
   "codemirror_mode": {
    "name": "ipython",
    "version": 3
   },
   "file_extension": ".py",
   "mimetype": "text/x-python",
   "name": "python",
   "nbconvert_exporter": "python",
   "pygments_lexer": "ipython3",
   "version": "3.6.12"
  },
  "toc": {
   "base_numbering": 1,
   "nav_menu": {},
   "number_sections": false,
   "sideBar": true,
   "skip_h1_title": false,
   "title_cell": "Table of Contents",
   "title_sidebar": "Contents",
   "toc_cell": false,
   "toc_position": {
    "height": "calc(100% - 180px)",
    "left": "10px",
    "top": "150px",
    "width": "165px"
   },
   "toc_section_display": true,
   "toc_window_display": true
  }
 },
 "nbformat": 4,
 "nbformat_minor": 4
}
